{
 "cells": [
  {
   "cell_type": "markdown",
   "metadata": {},
   "source": [
    "# Crown Casino Roulette Simulation"
   ]
  },
  {
   "cell_type": "code",
   "execution_count": 5,
   "metadata": {
    "collapsed": true
   },
   "outputs": [],
   "source": [
    "import random\n",
    "import numpy as np\n",
    "from matplotlib import pyplot as plt"
   ]
  },
  {
   "cell_type": "code",
   "execution_count": 49,
   "metadata": {},
   "outputs": [],
   "source": [
    "def get_number():\n",
    "    number = random.randint(0,37)\n",
    "#     if number == 37:\n",
    "#         number = '00'\n",
    "    return number\n",
    "\n",
    "def get_results(n = 1):\n",
    "    results = []\n",
    "    for i in range(n):\n",
    "        results.append(get_number())\n",
    "    return np.array(results)\n",
    "\n",
    "def get_odd_even(results):\n",
    "    \n",
    "\n",
    "def show_results(results):\n",
    "    data = results\n",
    "\n",
    "    # fixed bin size\n",
    "    bins = np.arange(-100, 100, 1) # fixed bin size\n",
    "\n",
    "    plt.xlim([0, 38])\n",
    "\n",
    "    plt.hist(data, bins=bins, alpha=0.5)\n",
    "    plt.title('Roulette Simulation Results (# Games: {0})'.format(len(results)))\n",
    "    plt.xlabel('Number')\n",
    "    plt.ylabel('count')\n",
    "    plt.rcParams[\"patch.force_edgecolor\"] = True\n",
    "\n",
    "    plt.show()"
   ]
  },
  {
   "cell_type": "code",
   "execution_count": 52,
   "metadata": {},
   "outputs": [
    {
     "data": {
      "image/png": "[encoded data removed]",
      "text/plain": [
       "<matplotlib.figure.Figure at 0x10ee53ba8>"
      ]
     },
     "metadata": {},
     "output_type": "display_data"
    }
   ],
   "source": [
    "show_results(get_results(1000))"
   ]
  }
 ],
 "metadata": {
  "kernelspec": {
   "display_name": "Python 3",
   "language": "python",
   "name": "python3"
  },
  "language_info": {
   "codemirror_mode": {
    "name": "ipython",
    "version": 3
   },
   "file_extension": ".py",
   "mimetype": "text/x-python",
   "name": "python",
   "nbconvert_exporter": "python",
   "pygments_lexer": "ipython3",
   "version": "3.6.3"
  }
 },
 "nbformat": 4,
 "nbformat_minor": 2
}
